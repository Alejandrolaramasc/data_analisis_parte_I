{
 "cells": [
  {
   "cell_type": "markdown",
   "metadata": {
    "id": "z9dmcx8Uwt2F"
   },
   "source": [
    "Clase de Data analysis.\n",
    "Data analysis class."
   ]
  },
  {
   "cell_type": "markdown",
   "metadata": {
    "id": "C7Ru1XaCGs-r"
   },
   "source": [
    "1ra parte: Conociendo un dataframe, operaciones básicas, gráficos y análisis básico.\n",
    "Part 1: Getting to know a dataframe, basic operations, graphics and basic analysis."
   ]
  },
  {
   "cell_type": "code",
   "execution_count": 1,
   "metadata": {
    "id": "LOVvjJ8RQ4LB"
   },
   "outputs": [],
   "source": [
    "#Importamos pandas, biblioteca que nos permitirá transformar nuestro data set a dataframe.\n",
    "#We import pandas, a library that will allow us to transform our data set to dataframe.\n",
    "import pandas as pd"
   ]
  },
  {
   "cell_type": "code",
   "execution_count": 2,
   "metadata": {
    "colab": {
     "base_uri": "https://localhost:8080/"
    },
    "id": "-nVzV504wtEy",
    "outputId": "2c611b29-91bc-4ae0-9e54-f6e67a82fb6a"
   },
   "outputs": [
    {
     "name": "stdout",
     "output_type": "stream",
     "text": [
      "     Ben Nevis   Ben Macdui    Braeriach   Cairn Toul  Sgòr an Lochain Uaine\n",
      "0  1345.000000  1309.000000  1296.000000  1291.000000            1258.000000\n",
      "1    56.796850    57.070453    57.078628    57.054611              57.057999\n",
      "2    -5.003508    -3.668262    -3.728024    -3.710420              -3.725416\n"
     ]
    }
   ],
   "source": [
    "#Una manera de formar un dataframe es con el par clave-tupla dentro de un diccionario:\n",
    "#One way to form a dataframe is with the key-tuple pair inside a dictionary:\n",
    "scottish_hills = {'Ben Nevis': (1345, 56.79685, -5.003508),\n",
    "                  'Ben Macdui': (1309, 57.070453, -3.668262),\n",
    "                  'Braeriach': (1296, 57.078628, -3.728024),\n",
    "                  'Cairn Toul': (1291, 57.054611, -3.71042),\n",
    "                  'Sgòr an Lochain Uaine': (1258, 57.057999, -3.725416)}\n",
    "\n",
    "dataframe = pd.DataFrame(scottish_hills)\n",
    "print(dataframe)"
   ]
  },
  {
   "cell_type": "code",
   "execution_count": 3,
   "metadata": {
    "id": "q-wAcuqsxCMs"
   },
   "outputs": [],
   "source": [
    "#Otra manera más usada es a partir del par clave-lista:\n",
    "#Another more commonly used way is from the key-list pair:\n",
    "scottish_hills = {'Hill Name': ['Ben Nevis', 'Ben Macdui', 'Braeriach', 'Cairn Toul', 'Sgòr an Lochain Uaine'],\n",
    "                  'Height': [1345, 1309, 1296, 1291, 1258],\n",
    "                  'Latitude': [56.79685, 57.070453, 57.078628, 57.054611, 57.057999],\n",
    "                  'Longitude': [-5.003508, -3.668262, -3.728024, -3.71042, -3.725416]}"
   ]
  },
  {
   "cell_type": "code",
   "execution_count": 4,
   "metadata": {
    "id": "3TZcKyUexdL4"
   },
   "outputs": [],
   "source": [
    "#Una buena práctica es evitar usar el nombre dataframe, en vez de este, usamos df:\n",
    "#A good practice is to avoid using the name dataframe, instead use df:\n",
    "df = pd.DataFrame(scottish_hills, columns=['Hill Name', 'Height', 'Latitude', 'Longitude'])"
   ]
  },
  {
   "cell_type": "code",
   "execution_count": 5,
   "metadata": {
    "colab": {
     "base_uri": "https://localhost:8080/"
    },
    "id": "JXNQOL62xoUf",
    "outputId": "751eec1a-20e5-4a54-ff1e-58feea94a8c2"
   },
   "outputs": [
    {
     "name": "stdout",
     "output_type": "stream",
     "text": [
      "    Hill Name  Height   Latitude  Longitude\n",
      "0   Ben Nevis    1345  56.796850  -5.003508\n",
      "1  Ben Macdui    1309  57.070453  -3.668262\n",
      "2   Braeriach    1296  57.078628  -3.728024\n"
     ]
    }
   ],
   "source": [
    "#Podemos imprimir las 3 primeras filas con el método head pasando el parámero 3:\n",
    "#We can print the first 3 rows with the head method by passing the parameter 3:\n",
    "print(df.head(3))"
   ]
  },
  {
   "cell_type": "code",
   "execution_count": 6,
   "metadata": {
    "colab": {
     "base_uri": "https://localhost:8080/"
    },
    "id": "rdi7A6r-xrNy",
    "outputId": "eb8ad255-168f-4e87-cc63-f1f19b83c9ed"
   },
   "outputs": [
    {
     "name": "stdout",
     "output_type": "stream",
     "text": [
      "               Hill Name  Height   Latitude  Longitude\n",
      "3             Cairn Toul    1291  57.054611  -3.710420\n",
      "4  Sgòr an Lochain Uaine    1258  57.057999  -3.725416\n"
     ]
    }
   ],
   "source": [
    "#Podemos imprimir las 2 últimas filas con el método tail pasando el parámero 2: \n",
    "#We can print the last 2 rows with the tail method by passing the parameter 2:\n",
    "print(df.tail(2))"
   ]
  },
  {
   "cell_type": "code",
   "execution_count": 7,
   "metadata": {
    "colab": {
     "base_uri": "https://localhost:8080/"
    },
    "id": "I9krukO6xsLH",
    "outputId": "6703c7a2-f3b9-4283-f672-b5228f9126d2"
   },
   "outputs": [
    {
     "name": "stdout",
     "output_type": "stream",
     "text": [
      "0                Ben Nevis\n",
      "1               Ben Macdui\n",
      "2                Braeriach\n",
      "3               Cairn Toul\n",
      "4    Sgòr an Lochain Uaine\n",
      "Name: Hill Name, dtype: object\n"
     ]
    }
   ],
   "source": [
    "#Es la estructura más simple que proporciona Pandas, y se asemeja a una columna en una hoja de cálculo de Excel.\n",
    "#Un objeto Series tiene dos componentes principales: un índice y un vector de datos. Ambos componentes son listas con la misma longitud. \n",
    "#El índice contiene valores únicos y, por lo general, ordenados, y se usa para acceder a valores individuales de los datos:\n",
    "#It is the simplest structure provided by Pandas, and resembles a column in an Excel spreadsheet.\n",
    "#A Series object has two main components: an index and a data vector. Both components are lists with the same length. \n",
    "#The index contains unique and usually sorted values and is used to access individual values of the data:\n",
    "print(df['Hill Name'])"
   ]
  },
  {
   "cell_type": "code",
   "execution_count": 8,
   "metadata": {
    "colab": {
     "base_uri": "https://localhost:8080/"
    },
    "id": "GIDy-XMtx4i3",
    "outputId": "9ec2d387-00a3-4af1-8266-a127b909f628"
   },
   "outputs": [
    {
     "name": "stdout",
     "output_type": "stream",
     "text": [
      "0    1345\n",
      "1    1309\n",
      "2    1296\n",
      "3    1291\n",
      "4    1258\n",
      "Name: Height, dtype: int64\n"
     ]
    }
   ],
   "source": [
    "print(df['Height'])"
   ]
  },
  {
   "cell_type": "code",
   "execution_count": 9,
   "metadata": {
    "colab": {
     "base_uri": "https://localhost:8080/"
    },
    "id": "-amuSVnOx_M-",
    "outputId": "66e8265a-fcd5-41c5-b513-ce600e5ecdf9"
   },
   "outputs": [
    {
     "data": {
      "text/plain": [
       "Hill Name    Ben Nevis\n",
       "Height            1345\n",
       "Latitude      56.79685\n",
       "Longitude    -5.003508\n",
       "Name: 0, dtype: object"
      ]
     },
     "execution_count": 9,
     "metadata": {},
     "output_type": "execute_result"
    }
   ],
   "source": [
    "#El método iloc se utiliza en los DataFrames para seleccionar los elementos en base a su ubicación numérica. Devuelve otro dataframe.\n",
    "#Para seleccionar la primera fila:\n",
    "#The iloc method is used in DataFrames to select elements based on their numerical location. Returns another dataframe.\n",
    "#To select the first row:\n",
    "df.iloc[0]"
   ]
  },
  {
   "cell_type": "code",
   "execution_count": 10,
   "metadata": {
    "colab": {
     "base_uri": "https://localhost:8080/",
     "height": 35
    },
    "id": "Bna76r8Jz0y4",
    "outputId": "4e45fc52-76cd-44c9-e247-4dbcf783367f"
   },
   "outputs": [
    {
     "data": {
      "text/plain": [
       "'Ben Nevis'"
      ]
     },
     "execution_count": 10,
     "metadata": {},
     "output_type": "execute_result"
    }
   ],
   "source": [
    "#La segunda componente actúa como una especie de eje y en matemáticas.\n",
    "#El primer parámetro es obligatorio y el segundo es opcional.\n",
    "#The second component acts as a kind of y-axis in mathematics.\n",
    "#The first parameter is mandatory and the second is optional.\n",
    "df.iloc[0,0]"
   ]
  },
  {
   "cell_type": "code",
   "execution_count": 11,
   "metadata": {
    "colab": {
     "base_uri": "https://localhost:8080/",
     "height": 35
    },
    "id": "HRb3Ahc_z4RN",
    "outputId": "3dfa0a2f-4965-48b8-fb9f-e5e3568c113c"
   },
   "outputs": [
    {
     "data": {
      "text/plain": [
       "'Ben Nevis'"
      ]
     },
     "execution_count": 11,
     "metadata": {},
     "output_type": "execute_result"
    }
   ],
   "source": [
    "#Esta es otra manera de invocar el elemento (0,0):\n",
    "#This is another way to invoke the (0,0) element:\n",
    "df['Hill Name'][0]"
   ]
  },
  {
   "cell_type": "code",
   "execution_count": 12,
   "metadata": {
    "colab": {
     "base_uri": "https://localhost:8080/",
     "height": 206
    },
    "id": "ktrHRnVzOS_v",
    "outputId": "80656639-51c4-41a0-e313-22691d8b42a1"
   },
   "outputs": [
    {
     "data": {
      "text/html": [
       "<div>\n",
       "<style scoped>\n",
       "    .dataframe tbody tr th:only-of-type {\n",
       "        vertical-align: middle;\n",
       "    }\n",
       "\n",
       "    .dataframe tbody tr th {\n",
       "        vertical-align: top;\n",
       "    }\n",
       "\n",
       "    .dataframe thead th {\n",
       "        text-align: right;\n",
       "    }\n",
       "</style>\n",
       "<table border=\"1\" class=\"dataframe\">\n",
       "  <thead>\n",
       "    <tr style=\"text-align: right;\">\n",
       "      <th></th>\n",
       "      <th>Hill Name</th>\n",
       "      <th>Height</th>\n",
       "    </tr>\n",
       "  </thead>\n",
       "  <tbody>\n",
       "    <tr>\n",
       "      <th>0</th>\n",
       "      <td>Ben Nevis</td>\n",
       "      <td>1345</td>\n",
       "    </tr>\n",
       "    <tr>\n",
       "      <th>1</th>\n",
       "      <td>Ben Macdui</td>\n",
       "      <td>1309</td>\n",
       "    </tr>\n",
       "    <tr>\n",
       "      <th>2</th>\n",
       "      <td>Braeriach</td>\n",
       "      <td>1296</td>\n",
       "    </tr>\n",
       "    <tr>\n",
       "      <th>3</th>\n",
       "      <td>Cairn Toul</td>\n",
       "      <td>1291</td>\n",
       "    </tr>\n",
       "    <tr>\n",
       "      <th>4</th>\n",
       "      <td>Sgòr an Lochain Uaine</td>\n",
       "      <td>1258</td>\n",
       "    </tr>\n",
       "  </tbody>\n",
       "</table>\n",
       "</div>"
      ],
      "text/plain": [
       "               Hill Name  Height\n",
       "0              Ben Nevis    1345\n",
       "1             Ben Macdui    1309\n",
       "2              Braeriach    1296\n",
       "3             Cairn Toul    1291\n",
       "4  Sgòr an Lochain Uaine    1258"
      ]
     },
     "execution_count": 12,
     "metadata": {},
     "output_type": "execute_result"
    }
   ],
   "source": [
    "# También podemos seleccionar filas y columnas a nuestro antojo.\n",
    "# En este caso todas las filas y primeras 2 columnas:\n",
    "# We can also select rows and columns as we wish.\n",
    "# In this case all rows and first 2 columns:\n",
    "df.iloc[:, 0:2]"
   ]
  },
  {
   "cell_type": "code",
   "execution_count": 13,
   "metadata": {
    "colab": {
     "base_uri": "https://localhost:8080/",
     "height": 206
    },
    "id": "JJmLEZppPS35",
    "outputId": "31a49bfa-f1d9-4102-edba-9fd861ffb34c"
   },
   "outputs": [
    {
     "data": {
      "text/html": [
       "<div>\n",
       "<style scoped>\n",
       "    .dataframe tbody tr th:only-of-type {\n",
       "        vertical-align: middle;\n",
       "    }\n",
       "\n",
       "    .dataframe tbody tr th {\n",
       "        vertical-align: top;\n",
       "    }\n",
       "\n",
       "    .dataframe thead th {\n",
       "        text-align: right;\n",
       "    }\n",
       "</style>\n",
       "<table border=\"1\" class=\"dataframe\">\n",
       "  <thead>\n",
       "    <tr style=\"text-align: right;\">\n",
       "      <th></th>\n",
       "      <th>Hill Name</th>\n",
       "      <th>Longitude</th>\n",
       "      <th>Height</th>\n",
       "    </tr>\n",
       "  </thead>\n",
       "  <tbody>\n",
       "    <tr>\n",
       "      <th>0</th>\n",
       "      <td>Ben Nevis</td>\n",
       "      <td>-5.003508</td>\n",
       "      <td>1345</td>\n",
       "    </tr>\n",
       "    <tr>\n",
       "      <th>1</th>\n",
       "      <td>Ben Macdui</td>\n",
       "      <td>-3.668262</td>\n",
       "      <td>1309</td>\n",
       "    </tr>\n",
       "    <tr>\n",
       "      <th>2</th>\n",
       "      <td>Braeriach</td>\n",
       "      <td>-3.728024</td>\n",
       "      <td>1296</td>\n",
       "    </tr>\n",
       "    <tr>\n",
       "      <th>3</th>\n",
       "      <td>Cairn Toul</td>\n",
       "      <td>-3.710420</td>\n",
       "      <td>1291</td>\n",
       "    </tr>\n",
       "    <tr>\n",
       "      <th>4</th>\n",
       "      <td>Sgòr an Lochain Uaine</td>\n",
       "      <td>-3.725416</td>\n",
       "      <td>1258</td>\n",
       "    </tr>\n",
       "  </tbody>\n",
       "</table>\n",
       "</div>"
      ],
      "text/plain": [
       "               Hill Name  Longitude  Height\n",
       "0              Ben Nevis  -5.003508    1345\n",
       "1             Ben Macdui  -3.668262    1309\n",
       "2              Braeriach  -3.728024    1296\n",
       "3             Cairn Toul  -3.710420    1291\n",
       "4  Sgòr an Lochain Uaine  -3.725416    1258"
      ]
     },
     "execution_count": 13,
     "metadata": {},
     "output_type": "execute_result"
    }
   ],
   "source": [
    "# Para seleccionar columnas específicas se debe indicar así:\n",
    "# To select specific columns you must indicate this:\n",
    "df.iloc[:, [0, 3, 1]]"
   ]
  },
  {
   "cell_type": "code",
   "execution_count": 14,
   "metadata": {
    "colab": {
     "base_uri": "https://localhost:8080/",
     "height": 143
    },
    "id": "QObxb9lgP7AG",
    "outputId": "00460042-9b2e-4b58-9f47-3094b24263be"
   },
   "outputs": [
    {
     "data": {
      "text/html": [
       "<div>\n",
       "<style scoped>\n",
       "    .dataframe tbody tr th:only-of-type {\n",
       "        vertical-align: middle;\n",
       "    }\n",
       "\n",
       "    .dataframe tbody tr th {\n",
       "        vertical-align: top;\n",
       "    }\n",
       "\n",
       "    .dataframe thead th {\n",
       "        text-align: right;\n",
       "    }\n",
       "</style>\n",
       "<table border=\"1\" class=\"dataframe\">\n",
       "  <thead>\n",
       "    <tr style=\"text-align: right;\">\n",
       "      <th></th>\n",
       "      <th>Hill Name</th>\n",
       "      <th>Latitude</th>\n",
       "    </tr>\n",
       "  </thead>\n",
       "  <tbody>\n",
       "    <tr>\n",
       "      <th>0</th>\n",
       "      <td>Ben Nevis</td>\n",
       "      <td>56.796850</td>\n",
       "    </tr>\n",
       "    <tr>\n",
       "      <th>2</th>\n",
       "      <td>Braeriach</td>\n",
       "      <td>57.078628</td>\n",
       "    </tr>\n",
       "    <tr>\n",
       "      <th>4</th>\n",
       "      <td>Sgòr an Lochain Uaine</td>\n",
       "      <td>57.057999</td>\n",
       "    </tr>\n",
       "  </tbody>\n",
       "</table>\n",
       "</div>"
      ],
      "text/plain": [
       "               Hill Name   Latitude\n",
       "0              Ben Nevis  56.796850\n",
       "2              Braeriach  57.078628\n",
       "4  Sgòr an Lochain Uaine  57.057999"
      ]
     },
     "execution_count": 14,
     "metadata": {},
     "output_type": "execute_result"
    }
   ],
   "source": [
    "# En casos donde hay muchas columnas el método anterior puede ser confuso,\n",
    "# En vez de él, se usa el método loc, en este caso selecciono las filas 0, 2 y 4 y las columnas Hill Name y Latitude:\n",
    "# In cases where there are many columns the above method can be confusing,\n",
    "# Instead of it, the loc method is used, in this case I select rows 0, 2 and 4 and the columns Hill Name and Latitude:\n",
    "df.loc[[0, 2, 4], ['Hill Name', 'Latitude']]"
   ]
  },
  {
   "cell_type": "code",
   "execution_count": 15,
   "metadata": {
    "colab": {
     "base_uri": "https://localhost:8080/"
    },
    "id": "WOfMDiTu0Grb",
    "outputId": "98205892-7088-488c-8c01-9bfe97d1b38b"
   },
   "outputs": [
    {
     "data": {
      "text/plain": [
       "0    1345\n",
       "1    1309\n",
       "2    1296\n",
       "3    1291\n",
       "4    1258\n",
       "Name: Height, dtype: int64"
      ]
     },
     "execution_count": 15,
     "metadata": {},
     "output_type": "execute_result"
    }
   ],
   "source": [
    "#Una manera de imprimir una serie pandas es ocupando una columna como atributo:\n",
    "#One way to print a pandas series is to occupy a column as an attribute:\n",
    "df.Height"
   ]
  },
  {
   "cell_type": "code",
   "execution_count": 16,
   "metadata": {
    "colab": {
     "base_uri": "https://localhost:8080/"
    },
    "id": "bi7oE28q0Mas",
    "outputId": "e9f5927b-0319-41b9-a060-9fb639d83bab"
   },
   "outputs": [
    {
     "data": {
      "text/plain": [
       "0     True\n",
       "1     True\n",
       "2    False\n",
       "3    False\n",
       "4    False\n",
       "Name: Height, dtype: bool"
      ]
     },
     "execution_count": 16,
     "metadata": {},
     "output_type": "execute_result"
    }
   ],
   "source": [
    "#También se puede llamar al atributo como:\n",
    "#You can also call the attribute as:\n",
    "df['Height'] > 1300"
   ]
  },
  {
   "cell_type": "code",
   "execution_count": 17,
   "metadata": {
    "colab": {
     "base_uri": "https://localhost:8080/",
     "height": 112
    },
    "id": "Moi1eRTB0R9T",
    "outputId": "684a44c1-37a1-45c4-8753-97b4a5cec602"
   },
   "outputs": [
    {
     "data": {
      "text/html": [
       "<div>\n",
       "<style scoped>\n",
       "    .dataframe tbody tr th:only-of-type {\n",
       "        vertical-align: middle;\n",
       "    }\n",
       "\n",
       "    .dataframe tbody tr th {\n",
       "        vertical-align: top;\n",
       "    }\n",
       "\n",
       "    .dataframe thead th {\n",
       "        text-align: right;\n",
       "    }\n",
       "</style>\n",
       "<table border=\"1\" class=\"dataframe\">\n",
       "  <thead>\n",
       "    <tr style=\"text-align: right;\">\n",
       "      <th></th>\n",
       "      <th>Hill Name</th>\n",
       "      <th>Height</th>\n",
       "      <th>Latitude</th>\n",
       "      <th>Longitude</th>\n",
       "    </tr>\n",
       "  </thead>\n",
       "  <tbody>\n",
       "    <tr>\n",
       "      <th>0</th>\n",
       "      <td>Ben Nevis</td>\n",
       "      <td>1345</td>\n",
       "      <td>56.796850</td>\n",
       "      <td>-5.003508</td>\n",
       "    </tr>\n",
       "    <tr>\n",
       "      <th>1</th>\n",
       "      <td>Ben Macdui</td>\n",
       "      <td>1309</td>\n",
       "      <td>57.070453</td>\n",
       "      <td>-3.668262</td>\n",
       "    </tr>\n",
       "  </tbody>\n",
       "</table>\n",
       "</div>"
      ],
      "text/plain": [
       "    Hill Name  Height   Latitude  Longitude\n",
       "0   Ben Nevis    1345  56.796850  -5.003508\n",
       "1  Ben Macdui    1309  57.070453  -3.668262"
      ]
     },
     "execution_count": 17,
     "metadata": {},
     "output_type": "execute_result"
    }
   ],
   "source": [
    "#La condición anterior se usa para obtener variable booleana como respuesta.\n",
    "#Una manera de usar la condición anterior como filtro para que retorne un df es:\n",
    "#The above condition is used to get boolean variable as a response.\n",
    "#One way to use the above condition as a filter to return a df is:\n",
    "df[df.Height > 1300]"
   ]
  },
  {
   "cell_type": "code",
   "execution_count": 18,
   "metadata": {
    "colab": {
     "base_uri": "https://localhost:8080/"
    },
    "id": "OCdHuoOn0Ybl",
    "outputId": "692c47d3-27a2-4811-87ae-ce09353092f4"
   },
   "outputs": [
    {
     "name": "stdout",
     "output_type": "stream",
     "text": [
      "               Hill Name  Height   Latitude  Longitude     Region\n",
      "0              Ben Nevis    1345  56.796850  -5.003508   Grampian\n",
      "1             Ben Macdui    1309  57.070453  -3.668262  Cairngorm\n",
      "2              Braeriach    1296  57.078628  -3.728024  Cairngorm\n",
      "3             Cairn Toul    1291  57.054611  -3.710420  Cairngorm\n",
      "4  Sgòr an Lochain Uaine    1258  57.057999  -3.725416  Cairngorm\n"
     ]
    }
   ],
   "source": [
    "#También podemos agregar una nueva columna al dataframe, que por defecto se ubicará al final:\n",
    "#We can also add a new column to the dataframe, which by default will be placed at the end:\n",
    "df['Region'] = ['Grampian', 'Cairngorm', 'Cairngorm', 'Cairngorm', 'Cairngorm']\n",
    "print(df)"
   ]
  },
  {
   "cell_type": "code",
   "execution_count": 19,
   "metadata": {
    "colab": {
     "base_uri": "https://localhost:8080/"
    },
    "id": "f1T62djVRI46",
    "outputId": "9e95d5fc-b1d8-4819-d8e3-c3272198206b"
   },
   "outputs": [
    {
     "data": {
      "text/plain": [
       "['Hill Name', 'Height', 'Latitude', 'Longitude', 'Region']"
      ]
     },
     "execution_count": 19,
     "metadata": {},
     "output_type": "execute_result"
    }
   ],
   "source": [
    "# Si el dataframe tiene muchas columnas podemos imprimirlas en una lista con el método tolist():\n",
    "# If the dataframe has many columns we can print them in a list with the tolist() method:\n",
    "df.columns.tolist()"
   ]
  },
  {
   "cell_type": "code",
   "execution_count": 20,
   "metadata": {
    "colab": {
     "base_uri": "https://localhost:8080/"
    },
    "id": "eRv8dmrqATRB",
    "outputId": "7333ff14-4599-4008-d5f5-00c2d65f8699"
   },
   "outputs": [
    {
     "name": "stdout",
     "output_type": "stream",
     "text": [
      "               Hill Name     Region  Height  Longitude   Latitude\n",
      "0              Ben Nevis   Grampian    1345  -5.003508  56.796850\n",
      "1             Ben Macdui  Cairngorm    1309  -3.668262  57.070453\n",
      "2              Braeriach  Cairngorm    1296  -3.728024  57.078628\n",
      "3             Cairn Toul  Cairngorm    1291  -3.710420  57.054611\n",
      "4  Sgòr an Lochain Uaine  Cairngorm    1258  -3.725416  57.057999\n"
     ]
    }
   ],
   "source": [
    "#Podemos ordenar las columnas del dataframe a nuestro antojo con el método reindex:\n",
    "#We can sort the columns of the dataframe as we wish with the reindex method:\n",
    "df = df.reindex(columns=['Hill Name','Region','Height','Longitude','Latitude'])\n",
    "print(df)"
   ]
  },
  {
   "cell_type": "code",
   "execution_count": 21,
   "metadata": {
    "colab": {
     "base_uri": "https://localhost:8080/"
    },
    "id": "B7iR9j4PAmK0",
    "outputId": "cc112b3b-ff61-4914-eac8-d0435ba6150f"
   },
   "outputs": [
    {
     "name": "stdout",
     "output_type": "stream",
     "text": [
      "               Hill Name  Height   Latitude\n",
      "0              Ben Nevis    1345  56.796850\n",
      "1             Ben Macdui    1309  57.070453\n",
      "2              Braeriach    1296  57.078628\n",
      "3             Cairn Toul    1291  57.054611\n",
      "4  Sgòr an Lochain Uaine    1258  57.057999\n"
     ]
    }
   ],
   "source": [
    "#Podemos borrar una columna que no nos interese:\n",
    "#We can delete a column we are not interested in:\n",
    "df.drop(['Region', 'Longitude'], axis=1, inplace=True)\n",
    "print(df)"
   ]
  },
  {
   "cell_type": "code",
   "execution_count": 22,
   "metadata": {
    "colab": {
     "base_uri": "https://localhost:8080/"
    },
    "id": "6E3vt-Ro2FpO",
    "outputId": "e9e7531a-0d7e-4292-a31e-1f6f56bbe0a8"
   },
   "outputs": [
    {
     "name": "stdout",
     "output_type": "stream",
     "text": [
      "                    Hill Name  Height   Latitude  Longitude    Osgrid\n",
      "0       A' Bhuidheanach Bheag   936.0  56.870342  -4.199001  NN660775\n",
      "1               A' Chailleach   997.0  57.693800  -5.128715  NH136714\n",
      "2               A' Chailleach   929.2  57.109564  -4.179285  NH681041\n",
      "3  A' Chraileag (A' Chralaig)  1120.0  57.184186  -5.154837  NH094147\n",
      "4             A' Ghlas-bheinn   918.0  57.255090  -5.303687  NH008231\n",
      "5               A' Mhaighdean   967.0  57.719644  -5.346720  NH007749\n",
      "6              A' Mharconaich   973.2  56.857002  -4.290668  NN604762\n",
      "7                  Am Basteir   934.0  57.247931  -6.202982  NG465253\n",
      "8                   Am Bodach  1031.8  56.741727  -4.983393  NN176650\n",
      "9               Am Faochagach   953.0  57.771801  -4.853899  NH303793\n"
     ]
    }
   ],
   "source": [
    "#Otra manera de crear un dataframe es a partir de un archivo csv (y otros archivos que es un tema para ingeniería de datos):\n",
    "#Another way to create a dataframe is from a csv file (and other files which is a topic for data engineering):\n",
    "df = pd.read_csv(\"scottish_hills.csv\")\n",
    "print(df.head(10))"
   ]
  },
  {
   "cell_type": "code",
   "execution_count": 23,
   "metadata": {
    "colab": {
     "base_uri": "https://localhost:8080/"
    },
    "id": "r0rQvUAt2g80",
    "outputId": "abb4734e-40bf-446d-a9b9-6d7ec11aacc5"
   },
   "outputs": [
    {
     "name": "stdout",
     "output_type": "stream",
     "text": [
      "                       Hill Name  Height   Latitude  Longitude    Osgrid\n",
      "92                     Ben Nevis  1344.5  56.796891  -5.003675  NN166712\n",
      "88   Ben Macdui (Beinn Macduibh)  1309.0  57.070368  -3.669099  NN988989\n",
      "104                    Braeriach  1296.0  57.078298  -3.728389  NN953999\n",
      "115                   Cairn Toul  1291.0  57.054397  -3.710773  NN963972\n",
      "212        Sgor an Lochain Uaine  1258.0  57.058369  -3.725797  NN954976\n"
     ]
    }
   ],
   "source": [
    "#Una utilidad importante es ordenar el dataframe por un campo específico:\n",
    "#An important utility is to sort the dataframe by a specific field:\n",
    "sorted_hills = df.sort_values(by=['Height'], ascending=False)\n",
    "# después de ascending=False podemos usar ,inplace=True para asegurarnos de guardar los cambios \n",
    "# si no ocupamos la nueva variable sorted_hills.\n",
    "# Let's have a look at the top 5 to check\n",
    "# after ascending=False we can use ,inplace=True to be sure to save the changes \n",
    "# if we don't use the new sorted_hills variable.\n",
    "# Let's have a look at the top 5 to check\n",
    "print(sorted_hills.head(5))"
   ]
  },
  {
   "cell_type": "code",
   "execution_count": 24,
   "metadata": {
    "id": "vDGYJMM22jhf"
   },
   "outputs": [],
   "source": [
    "#Para hacer gráficos la biblioteca más ampliamente usada es matplotlib:\n",
    "#For graphing the most widely used library is matplotlib:\n",
    "import matplotlib.pyplot as plt"
   ]
  },
  {
   "cell_type": "code",
   "execution_count": 25,
   "metadata": {
    "colab": {
     "base_uri": "https://localhost:8080/",
     "height": 432
    },
    "id": "tEStEnW62xMM",
    "outputId": "0d0deaa2-21a5-438e-8eae-5dca80c805af"
   },
   "outputs": [
    {
     "data": {
      "image/png": "[encoded data removed]",
      "text/plain": [
       "<Figure size 432x288 with 1 Axes>"
      ]
     },
     "metadata": {
      "needs_background": "light"
     },
     "output_type": "display_data"
    }
   ],
   "source": [
    "#Podemos hacer un gráfico de puntos entre las variables Altura y Latitud\n",
    "#We can make a dot plot between the variables Height and Latitude.\n",
    "x = df.Height\n",
    "y = df.Latitude\n",
    "plt.scatter(x, y)\n",
    "plt.show()"
   ]
  },
  {
   "cell_type": "code",
   "execution_count": 26,
   "metadata": {
    "colab": {
     "base_uri": "https://localhost:8080/",
     "height": 642
    },
    "id": "FeXSGP4D5D1H",
    "outputId": "32f32f35-7291-43f5-908a-dc76a75c70b0"
   },
   "outputs": [
    {
     "data": {
      "image/png": "[encoded data removed]",
      "text/plain": [
       "<Figure size 864x360 with 1 Axes>"
      ]
     },
     "metadata": {
      "needs_background": "light"
     },
     "output_type": "display_data"
    }
   ],
   "source": [
    "#Podemos embellecer el gráfico usando argumentos a los métodos subplots y scatter:\n",
    "#We can embellish the graph using arguments to the subplots and scatter methods:\n",
    "fig, ax = plt.subplots(figsize = (12, 5))\n",
    "ax.scatter(x = df.Height, y = df.Latitude)\n",
    "plt.xlabel('Height')\n",
    "plt.ylabel('Latitude')\n",
    "plt.title('Height vs Latitude')\n",
    "plt.show()"
   ]
  },
  {
   "cell_type": "code",
   "execution_count": 27,
   "metadata": {
    "colab": {
     "base_uri": "https://localhost:8080/",
     "height": 35
    },
    "id": "9nHtts6f-0oM",
    "outputId": "e4d585c8-e45c-4d46-81c0-a2d1cad0a4b8"
   },
   "outputs": [
    {
     "data": {
      "text/plain": [
       "<Figure size 432x288 with 0 Axes>"
      ]
     },
     "metadata": {},
     "output_type": "display_data"
    }
   ],
   "source": [
    "#Podemos guardar el gràfico mediante:\n",
    "#We can save the graph by means of:\n",
    "plt.savefig(\"my_chart_name.png\")"
   ]
  },
  {
   "cell_type": "code",
   "execution_count": 28,
   "metadata": {
    "id": "RrRisosy-3sa"
   },
   "outputs": [],
   "source": [
    "#Para un análisis ràpido y simple importamos la biblioteca scipy y hacemos una regresión lineal:\n",
    "#For a quick and simple analysis we import the scipy library and run a linear regression:\n",
    "from scipy.stats import linregress"
   ]
  },
  {
   "cell_type": "code",
   "execution_count": 29,
   "metadata": {
    "colab": {
     "base_uri": "https://localhost:8080/",
     "height": 694
    },
    "id": "ujh7oXov_jEu",
    "outputId": "08cde22b-682a-42d2-e101-55660a087ac4"
   },
   "outputs": [
    {
     "data": {
      "text/plain": [
       "[<matplotlib.lines.Line2D at 0x7f1c8fae7210>]"
      ]
     },
     "execution_count": 29,
     "metadata": {},
     "output_type": "execute_result"
    },
    {
     "data": {
      "image/png": "[encoded data removed]",
      "text/plain": [
       "<Figure size 1008x504 with 1 Axes>"
      ]
     },
     "metadata": {
      "needs_background": "light"
     },
     "output_type": "display_data"
    }
   ],
   "source": [
    "fig, ax = plt.subplots(figsize = (14, 7))\n",
    "ax.scatter(x = df.Height, y = df.Latitude)\n",
    "plt.xlabel('Height', fontsize=20)\n",
    "plt.ylabel('Latitude', fontsize=20)\n",
    "plt.title('Height vs Latitude', fontsize=30)\n",
    "\n",
    "stats = linregress(x, y)\n",
    "#m representa la pendiente de la recta y b el coeficiente de posición:\n",
    "#m represents the slope of the line and b the position coefficient:\n",
    "m = stats.slope\n",
    "b = stats.intercept\n",
    "#Usamos color rojo para la recta y un grosor aceptable para remarcarla:\n",
    "#We use red color for the line and an acceptable thickness to highlight it:\n",
    "plt.plot(x, m * x + b, color=\"red\", linewidth=3)"
   ]
  },
  {
   "cell_type": "markdown",
   "metadata": {
    "id": "HcKuo1AbE8Qy"
   },
   "source": [
    "Podemos concluir al ojo que la Latitud disminuye con la Altura. O sea, son más chicos los que viven en alta montaña que los que viven a nivel del mar. \n",
    "We can conclude to the eye that Latitude decreases with Height. In other words, those who live in high mountains are smaller than those who live at sea level."
   ]
  },
  {
   "cell_type": "markdown",
   "metadata": {
    "id": "dnJuC3kdGzWH"
   },
   "source": []
  },
  {
   "cell_type": "code",
   "execution_count": 30,
   "metadata": {},
   "outputs": [
    {
     "name": "stdout",
     "output_type": "stream",
     "text": [
      "The rsquared value is: 0.007489659134576332\n"
     ]
    },
    {
     "data": {
      "image/png": "[encoded data removed]",
      "text/plain": [
       "<Figure size 432x288 with 1 Axes>"
      ]
     },
     "metadata": {
      "needs_background": "light"
     },
     "output_type": "display_data"
    }
   ],
   "source": [
    "# Ahora debemos hacer los análisis basados en los supuestos del modelo para validarlo o no.\n",
    "# We must now perform the analyses based on the model assumptions to validate the model or not.\n",
    "from sklearn.metrics import r2_score\n",
    "r2 = r2_score(y, m * x + b)\n",
    "print('The rsquared value is: ' + str(r2))\n",
    "# Prueba de los residuos\n",
    "# Waste test\n",
    "import seaborn as sns\n",
    "sns.residplot(x='Height', y='Latitude', data=df)\n",
    "  \n",
    "plt.show()"
   ]
  },
  {
   "cell_type": "code",
   "execution_count": 31,
   "metadata": {},
   "outputs": [],
   "source": [
    "# La siguiente biblioteca es para calcular los residuos\n",
    "# The following library is for calculating the residuals\n",
    "from sklearn.linear_model import LinearRegression\n",
    "# Numpy es una biblioteca para cálculos matemáticos\n",
    "# Numpy is a library for mathematical calculations.\n",
    "import numpy as np"
   ]
  },
  {
   "cell_type": "code",
   "execution_count": 32,
   "metadata": {},
   "outputs": [
    {
     "data": {
      "image/png": "[encoded data removed]",
      "text/plain": [
       "<Figure size 432x288 with 1 Axes>"
      ]
     },
     "metadata": {
      "needs_background": "light"
     },
     "output_type": "display_data"
    }
   ],
   "source": [
    "X = df['Height'].values.reshape(-1, 1)  # Variable independiente\n",
    "y = df['Latitude']                      # Variable dependiente\n",
    "\n",
    "# Ajusta un modelo de regresión lineal\n",
    "# Fits a linear regression model\n",
    "model = LinearRegression()\n",
    "model.fit(X, y)\n",
    "\n",
    "# Calcula los residuos\n",
    "# Calculate the residuals\n",
    "residuos = y - model.predict(X)\n",
    "\n",
    "# Grafica los residuos vs X\n",
    "# Graph waste vs. X\n",
    "plt.scatter(X, residuos)\n",
    "plt.axhline(y=0, color='r', linestyle='-')  # Agrega una línea en y=0 para visualizar la homocedasticidad\n",
    "plt.xlabel('X')\n",
    "plt.ylabel('Residuos')\n",
    "plt.title('Gráfico de Residuos vs X')\n",
    "plt.show()"
   ]
  },
  {
   "cell_type": "markdown",
   "metadata": {},
   "source": [
    "La prueba de Breusch-Pagan es una forma de comprobar si existe heterocedasticidad en el análisis de regresión. Una prueba de Breusch-Pagan sigue las siguientes hipótesis:\n",
    "\n",
    "Hipótesis:\n",
    "\n",
    "La hipótesis nula (H0): Significa que la homocedasticidad está presente.\n",
    "\n",
    "La hipótesis alternativa: (Ha): Significa que la homocedasticidad no está presente (existe heterocedasticidad)\n",
    "\n",
    "The Breusch-Pagan test is a way of testing for heteroscedasticity in regression analysis. A Breusch-Pagan test follows the following hypotheses:\n",
    "\n",
    "Hypothesis:\n",
    "\n",
    "The null hypothesis (H0): means that homoscedasticity is present.\n",
    "\n",
    "The alternative hypothesis: (Ha): Means that homoscedasticity is not present (heteroscedasticity exists)."
   ]
  },
  {
   "cell_type": "code",
   "execution_count": 33,
   "metadata": {},
   "outputs": [],
   "source": [
    "# Permite crear y ajustar modelos estadísticos utilizando la fórmula API\n",
    "# Allows you to create and adjust statistical models using the formula API\n",
    "import statsmodels.formula.api as smf\n",
    "# obtiene acceso a herramientas útiles para formatear resultados y realizar análisis estadísticos avanzados\n",
    "# gains access to useful tools for formatting results and performing advanced statistical analysis\n",
    "from statsmodels.compat import lzip\n",
    "import statsmodels.stats.api as sms"
   ]
  },
  {
   "cell_type": "code",
   "execution_count": 34,
   "metadata": {},
   "outputs": [
    {
     "data": {
      "text/plain": [
       "[('Lagrange multiplier statistic', 0.7772474691538986),\n",
       " ('p-value', 0.37798428569688314),\n",
       " ('f-value', 0.7738680082054288),\n",
       " ('f p-value', 0.37977746998118456)]"
      ]
     },
     "execution_count": 34,
     "metadata": {},
     "output_type": "execute_result"
    }
   ],
   "source": [
    "# Fit the regression model\n",
    "fit = smf.ols('Height ~ Latitude', data=df).fit()\n",
    " \n",
    "# Conduct the Breusch-Pagan test\n",
    "names = ['Lagrange multiplier statistic', 'p-value',\n",
    "         'f-value', 'f p-value']\n",
    " \n",
    "# Get the test result\n",
    "test_result = sms.het_breuschpagan(fit.resid, fit.model.exog)\n",
    " \n",
    "lzip(names, test_result)"
   ]
  },
  {
   "cell_type": "markdown",
   "metadata": {},
   "source": [
    "Aquí, el estadístico multiplicador de Lagrange para la prueba resulta ser igual a 0.777 y el valor p correspondiente resulta igual a 0,377. Dado que el valor p es mayor que 0,05, no podemos rechazar la hipótesis nula. Por tanto, no tenemos pruebas suficientes para decir que la heteroscedasticidad está presente en el modelo de regresión.\n",
    "\n",
    "Ya sabemos que el modelo es malo, pues el r-squared es 0.0074, o sea, sólo 0.74% del cambio en Y puede explicarse por el cambio en X. Si el r-squared hubiese sido mayor a 0.7 o 70% para validar nuestro modelo, además, hay que hacer un gráfico de los residuos, al aplicar el test de Breusch-Pagan vemos que no se presenta heterocedasticidad. Esto implica el cumplimiento de una de las hipótesis básicas sobre las que se asienta el modelo de regresión lineal: La homocedasticidad. Ahora podemos decir que nuestro r cuadrado es muy pequeño, aunque se cumple la existencia de homocedasticidad nuestro modelo es malo por el bajo valor del r2. Esta comprobación de los residuos es necesaria, pues, el r-cuadrado no necesariamente valida el modelo si es alto (cercano a 1).\n",
    "\n",
    "Here, the Lagrange multiplier statistic for the test turns out to be equal to 0.777 and the corresponding p-value turns out to be equal to 0.377. Since the p-value is greater than 0.05, we cannot reject the null hypothesis. Therefore, we do not have sufficient evidence to say that heteroscedasticity is present in the regression model.\n",
    "\n",
    "We already know that the model is bad, as the r-squared is 0.0074, that is, only 0.74% of the change in Y can be explained by the change in X. If the r-squared had been greater than 0.7 or 70% to validate our model, in addition, we have to make a graph of the residuals, by applying the Breusch-Pagan test we see that no heteroscedasticity is present. This implies the fulfillment of one of the basic hypotheses on which the linear regression model is based: homoscedasticity. Now we can say that our r-squared is very small, although the existence of homoscedasticity is fulfilled, our model is bad because of the low value of r2. This check of the residuals is necessary because the r-squared does not necessarily validate the model if it is high (close to 1)."
   ]
  }
 ],
 "metadata": {
  "colab": {
   "provenance": []
  },
  "kernelspec": {
   "display_name": "Python 3 (ipykernel)",
   "language": "python",
   "name": "python3"
  },
  "language_info": {
   "codemirror_mode": {
    "name": "ipython",
    "version": 3
   },
   "file_extension": ".py",
   "mimetype": "text/x-python",
   "name": "python",
   "nbconvert_exporter": "python",
   "pygments_lexer": "ipython3",
   "version": "3.7.13"
  }
 },
 "nbformat": 4,
 "nbformat_minor": 1
}
